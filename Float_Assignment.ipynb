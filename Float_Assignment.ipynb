{
 "cells": [
  {
   "cell_type": "markdown",
   "id": "931f6dc6",
   "metadata": {},
   "source": [
    "Q. Declare a float value and store it in a variable.\n",
    "Check the type and print the id of the same."
   ]
  },
  {
   "cell_type": "code",
   "execution_count": 2,
   "id": "02c265f8",
   "metadata": {},
   "outputs": [
    {
     "name": "stdout",
     "output_type": "stream",
     "text": [
      "Value of Variable \"a\" Located in 2791562514384 and Datatype which \"a\" holds is <class 'float'>\n"
     ]
    }
   ],
   "source": [
    "a=10.5  #Declaring an Float value.\n",
    "print(f'Value of Variable \"a\" Located in {id(a)} and Datatype which \"a\" holds is {type(a)}') \n",
    "# Here I used \"id\" Function to identify memory id of value in \"a\" and\n",
    "# \"type\" function to know its DataType. "
   ]
  },
  {
   "cell_type": "markdown",
   "id": "f7b12aee",
   "metadata": {},
   "source": [
    "Q. Arithmetic Operations on float\n",
    "Take two different float values.\n",
    "Store them in two different variables.\n",
    "Do below operations on them:-\n",
    "\n",
    " Find sum of both numbers\n",
    " \n",
    " Find difference between them\n",
    " \n",
    " Find the product of both numbers.\n",
    " \n",
    " Find value after dividing first num with second number\n",
    " \n",
    " Find the remainder after dividing first number with second number\n",
    " \n",
    " Find the quotient after dividing first number with second number\n",
    " \n",
    " Find the result of the first num to the power of the second number.\n"
   ]
  },
  {
   "cell_type": "code",
   "execution_count": 3,
   "id": "6d6f6ad9",
   "metadata": {},
   "outputs": [
    {
     "name": "stdout",
     "output_type": "stream",
     "text": [
      "Sum of both a and b : 31.0\n",
      "diffrence between both a and b : 9.799999999999999\n",
      "Product of a and b : 216.23999999999998\n",
      "Division of a and b : 1.9245283018867925\n",
      "Reminder after dividing a with b : 9.799999999999999\n",
      "quotient after dividing a with b : 1.0\n",
      "a power b : 76221900770433.97\n"
     ]
    }
   ],
   "source": [
    "# Declaring a and b with diffrent Float values.\n",
    "a=20.4\n",
    "b=10.6\n",
    "\n",
    "print(f'Sum of both a and b : {a+b}') # Used arithemetic addition\n",
    "print(f'diffrence between both a and b : {a-b}') # Used arithemetic Substraction\n",
    "print(f'Product of a and b : {a*b}') # Used arithemetic Multiplication\n",
    "print(f'Division of a and b : {a/b}') # Used arithemetic Division\n",
    "print(f'Reminder after dividing a with b : {a%b}') # Used arithemetic Moduless operator\n",
    "print(f'quotient after dividing a with b : {a//b}') # Used arithemetic Floor division\n",
    "print(f'a power b : {a**b}') # Used arithemetic power operator"
   ]
  },
  {
   "cell_type": "markdown",
   "id": "29b5f352",
   "metadata": {},
   "source": [
    "Q. Comparison Operators on float\n",
    "Take two different float values.\n",
    "Store them in two different variables.\n",
    "\n",
    "Do below operations on them:-\n",
    "\n",
    " Compare these two numbers with below operator:-\n",
    " \n",
    " Greater than, '>'\n",
    " \n",
    " Smaller than, '<'\n",
    " \n",
    " Greater than or equal to, '>='\n",
    " \n",
    " Less than or equal to, '<='\n",
    " \n",
    "Observe their output(return type should be boolean)"
   ]
  },
  {
   "cell_type": "code",
   "execution_count": 4,
   "id": "77978c0d",
   "metadata": {},
   "outputs": [
    {
     "name": "stdout",
     "output_type": "stream",
     "text": [
      "a Greater than b: False\n",
      "a Less than b: True\n",
      "a Greater than or Equal to b: False\n",
      "a Less than or Equal to b: True\n"
     ]
    }
   ],
   "source": [
    "# Declaring a and b with diffrent float value.\n",
    "a=30.2\n",
    "b=50.6\n",
    "\n",
    "print(f'a Greater than b: {a>b}') # used > operator\n",
    "print(f'a Less than b: {a<b}') # used < operator\n",
    "print(f'a Greater than or Equal to b: {a>=b}') # used >= operator\n",
    "print(f'a Less than or Equal to b: {a<=b}') # used <= operator\n",
    "\n",
    "# Output checked and confrom its's all boolean."
   ]
  },
  {
   "cell_type": "markdown",
   "id": "2bb634de",
   "metadata": {},
   "source": [
    "Q. Equality Operator\n",
    "Take two different float values.\n",
    "Store them in two different variables.\n",
    "\n",
    "Equate them using equality operators (==, !=)\n",
    "\n",
    "Observe the output(return type should be boolean)\n"
   ]
  },
  {
   "cell_type": "code",
   "execution_count": 7,
   "id": "dfef3da7",
   "metadata": {},
   "outputs": [
    {
     "name": "stdout",
     "output_type": "stream",
     "text": [
      "is a equal to b: False\n",
      "is a not equal to b: True\n"
     ]
    }
   ],
   "source": [
    "# Declaring a and b with diffrent float value.\n",
    "a=30.6\n",
    "b=40.8\n",
    "\n",
    "print(f'is a equal to b: {a==b}') # used == operator\n",
    "print(f'is a not equal to b: {a!=b}') # used != operator"
   ]
  },
  {
   "cell_type": "markdown",
   "id": "82fa9722",
   "metadata": {},
   "source": [
    "Q. Logical operators\n",
    "Observe the output of below code\n",
    "Cross check the output manually\n",
    "\n",
    "print(10.20 and 20.30) #both are true and second value taken -->Output is 20.3\n",
    "\n",
    "print(0.0 and 20.30) #First is false so first value taken --> Output is 0.0\n",
    "\n",
    "print(20.30 and 0.0) #Goes to till second and second value is false so second is taken --> Output is 0.0\n",
    "\n",
    "print(0.0 and 0.0) #First is false so first value is taken --> Output is 0.0\n",
    "\n",
    "print(10.20 or 20.30) #First is True so first value is taken --> Output is 10.2\n",
    "\n",
    "print(0.0 or 20.30) #Goes to till second and second is true second value is taken --> Output is 20.3\n",
    "\n",
    "print(20.30 or 0.0) #First is True so first value is taken --> Output is 20.3\n",
    "\n",
    "print(0.0 or 0.0) #Goes to till second and second is also false and second value is taken --> Output is 0.0\n",
    "\n",
    "print(not 10.20) #-Not of true is false --> Output is False\n",
    "\n",
    "print(not 0.0) #Not of false is True --> Output is True"
   ]
  },
  {
   "cell_type": "code",
   "execution_count": 17,
   "id": "08e0fd8a",
   "metadata": {},
   "outputs": [
    {
     "name": "stdout",
     "output_type": "stream",
     "text": [
      "20.3\n",
      "0.0\n",
      "0.0\n",
      "0.0\n",
      "10.2\n",
      "20.3\n",
      "20.3\n",
      "0.0\n",
      "False\n",
      "True\n"
     ]
    }
   ],
   "source": [
    "print(10.20 and 20.30) #both are true and second value taken, 20.3 is out check and conformed.\n",
    "print(0.0 and 20.30)   #First is false so first value ,coz if first value is false thr is no point in going to next value\n",
    "#so the result is 0.0\n",
    "print(20.30 and 0.0) #Goes to till second and second value is the out put , 0.0 will be the out\n",
    "print(0.0 and 0.0) #First is false so first value is taken --> Output is 0.0\n",
    "print(10.20 or 20.30) #First is True so first value is taken --> Output is 10.2\n",
    "print(0.0 or 20.30) #Goes to till second and second is true second value is taken --> Output is 20.3\n",
    "print(20.30 or 0.0) #First is True so first value is taken --> Output is 20.3\n",
    "print(0.0 or 0.0) #Goes to till second and second is also false and second value is taken --> Output is 0.0\n",
    "print(not 10.20) #-Not of true is false --> Output is False\n",
    "print(not 0.0) #Not of false is True --> Output is True"
   ]
  },
  {
   "cell_type": "markdown",
   "id": "bacfd8f8",
   "metadata": {},
   "source": [
    "Q. What is the output of expression inside print statement. Cross check\n",
    "before running the program.\n",
    "\n",
    "a = 10.20\n",
    "\n",
    "b = 10.20\n",
    "\n",
    "\n",
    "print(a is b) #True or False? True 10.20<256\n",
    "\n",
    "print(a is not b) #True or False? False\n",
    "\n",
    "\n",
    "Why the Id of float values are different when the same value is\n",
    "assigned to two different variables\n",
    "ex: a = 10.5 b=10.5. but id will be same if I assign the variable\n",
    "having float i.e. a=c then both a and c's Id are same\n"
   ]
  },
  {
   "cell_type": "code",
   "execution_count": 23,
   "id": "ffd2ccb4",
   "metadata": {},
   "outputs": [
    {
     "name": "stdout",
     "output_type": "stream",
     "text": [
      "False\n",
      "True\n"
     ]
    }
   ],
   "source": [
    "a = 10.20\n",
    "b = 10.20\n",
    "print(a is b) # False Float a datatype dont support mem reuseablity.\n",
    "print(a is not b) # True\n",
    "# as I said Float dont support mem reuseablity. So even though 2 variables have same value don't shares same object\n",
    "# a=c this is called aliasing,while aliasing object is shared between two variables\n",
    "# thats why both a and c shares same mem id,float is immutable else, if i change a then c will also changed , but\n",
    "# Float is immutable so if a is changed new object will be created for a and c will remain same on previous object"
   ]
  },
  {
   "cell_type": "markdown",
   "id": "068f5ad4",
   "metadata": {},
   "source": [
    "Q. Bitwise operation is not applicable between instances of float.\n",
    "Why the Id of float values are different when the same value is\n",
    "assigned to two different variables\n",
    "ex: a = 10.5 b=10.5. but id will be same if I assign the variable\n",
    "having float i.e. a=c then both a and c's Id are same\n",
    "Object reusability concept is not applicable on float values.\n"
   ]
  },
  {
   "cell_type": "code",
   "execution_count": 26,
   "id": "2ba05dfd",
   "metadata": {},
   "outputs": [],
   "source": [
    "# as I said Float dont support mem reuseablity. So even though 2 variables have same value don't shares same object\n",
    "# a=c this is called aliasing,while aliasing object is shared between two variables\n",
    "# thats why both a and c shares same mem id,float is immutable else, if i change a then c will also changed , but\n",
    "# Float is immutable so if a is changed new object will be created for a and c will remain same on previous object"
   ]
  },
  {
   "cell_type": "markdown",
   "id": "5fdf88d7",
   "metadata": {},
   "source": [
    "Q. Membership operation\n",
    "in, not in are two membership operators and it returns boolean value\n",
    "\n",
    "print('2.7' in 'Python2.7.8') #True\n",
    "\n",
    "print(10.20 in [10,10.20,10+20j,'Python']) #True\n",
    "\n",
    "print(10.20 in (10,10.20,10+20j,'Python')) # True\n",
    "\n",
    "print(20.30 in {1,20.30,30+40j}) # True\n",
    "\n",
    "print(2.3 in {1:100, 2.3:200, 30+40j:300}) # True\n",
    "\n",
    "print(10 in range(20)) # True"
   ]
  },
  {
   "cell_type": "code",
   "execution_count": 28,
   "id": "ddb2a0fd",
   "metadata": {},
   "outputs": [
    {
     "name": "stdout",
     "output_type": "stream",
     "text": [
      "True\n",
      "True\n",
      "True\n",
      "True\n",
      "True\n",
      "True\n"
     ]
    }
   ],
   "source": [
    "print('2.7' in 'Python2.7.8') #True 2.7 is present in given string\n",
    "\n",
    "print(10.20 in [10,10.20,10+20j,'Python']) #True 10.20 is present in given List\n",
    " \n",
    "print(10.20 in (10,10.20,10+20j,'Python')) # True 10.20 is present in given tuple\n",
    "\n",
    "print(20.30 in {1,20.30,30+40j}) # True 20.30 is present in given set\n",
    "\n",
    "print(2.3 in {1:100, 2.3:200, 30+40j:300}) # True 2.3 is present in given dictionary, 2.3 is the key of vale 200\n",
    "\n",
    "print(10 in range(20)) # True 10 is present in the range of 0-19"
   ]
  }
 ],
 "metadata": {
  "kernelspec": {
   "display_name": "Python 3 (ipykernel)",
   "language": "python",
   "name": "python3"
  },
  "language_info": {
   "codemirror_mode": {
    "name": "ipython",
    "version": 3
   },
   "file_extension": ".py",
   "mimetype": "text/x-python",
   "name": "python",
   "nbconvert_exporter": "python",
   "pygments_lexer": "ipython3",
   "version": "3.9.12"
  }
 },
 "nbformat": 4,
 "nbformat_minor": 5
}
