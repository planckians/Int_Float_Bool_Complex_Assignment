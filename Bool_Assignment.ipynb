{
 "cells": [
  {
   "cell_type": "markdown",
   "id": "9a214ac9",
   "metadata": {},
   "source": [
    "Q. Declare a boolean value and store it in a variable.\n",
    "Check the type and print the id of the same."
   ]
  },
  {
   "cell_type": "code",
   "execution_count": 4,
   "id": "9e82ec1b",
   "metadata": {},
   "outputs": [
    {
     "name": "stdout",
     "output_type": "stream",
     "text": [
      "Value of Variable \"a\" Located in 140732119439464 and Datatype which \"a\" holds is <class 'bool'>\n"
     ]
    }
   ],
   "source": [
    "a=bool(10)  #Declaring an Boolean value.\n",
    "print(f'Value of Variable \"a\" Located in {id(a)} and Datatype which \"a\" holds is {type(a)}') \n",
    "# Here I used \"id\" Function to identify memory id of value in \"a\" and\n",
    "# \"type\" function to know its DataType. "
   ]
  },
  {
   "cell_type": "markdown",
   "id": "8cb689b8",
   "metadata": {},
   "source": [
    "Q. Take one boolean value between 0 - 256.\n",
    "Assign it to two different variables.\n",
    "Check the id of both the variables. It should come the same. Check why?"
   ]
  },
  {
   "cell_type": "code",
   "execution_count": 5,
   "id": "7cce63ea",
   "metadata": {},
   "outputs": [
    {
     "name": "stdout",
     "output_type": "stream",
     "text": [
      "memory id of variable a :140732119439464 and b:140732119439464\n"
     ]
    }
   ],
   "source": [
    "# Declaring a and b with same bool value.\n",
    "a=bool(10)\n",
    "b=bool(10)\n",
    "print(f'memory id of variable a :{id(a)} and b:{id(b)}')\n",
    "# checked and identified both variable hold same memory location.\n",
    "# Reason: Python have a feature called \"Memory reuseablity\".\n",
    "#\"Memory reuseablity\": This is a technique used by python, which is if two or more variables have same value ,\n",
    "#then rather than creating new objects for same value in heap, python will point 2nd variable to that memory location.\n",
    "# Unlike integer boolean only holds 0 and 1 only, so there is no limitation for bool in the case of \"Memory reuseablity\"."
   ]
  },
  {
   "cell_type": "markdown",
   "id": "817f4afa",
   "metadata": {},
   "source": [
    "Q. Arithmetic Operations on boolean data\n",
    "   Take two different boolean values.\n",
    "   Store them in two different variables.\n",
    "   Do below operations on them:-\n",
    "\n",
    " Find sum of both values\n",
    " \n",
    " Find difference between them\n",
    " \n",
    " Find the product of both.\n",
    " \n",
    " Find value after dividing first value with second value\n",
    " \n",
    " Find the remainder after dividing first value with second value\n",
    " \n",
    " Find the quotient after dividing first value with second value\n",
    " \n",
    " Find the result of first value to the power of second value.\n"
   ]
  },
  {
   "cell_type": "code",
   "execution_count": 7,
   "id": "e35dd107",
   "metadata": {},
   "outputs": [
    {
     "name": "stdout",
     "output_type": "stream",
     "text": [
      "Sum of both a and b : 1\n",
      "diffrence between both a and b : -1\n",
      "Product of a and b : 0\n",
      "Division of a and b : 0.0\n",
      "Reminder after dividing a with b : 0\n",
      "quotient after dividing a with b : 0\n",
      "a power b : 0\n"
     ]
    }
   ],
   "source": [
    "# Declaring a and b with diffrent bool value.\n",
    "a=bool(0)\n",
    "b=bool(10)\n",
    "\n",
    "print(f'Sum of both a and b : {a+b}') # Used arithemetic addition\n",
    "print(f'diffrence between both a and b : {a-b}') # Used arithemetic Substraction\n",
    "print(f'Product of a and b : {a*b}') # Used arithemetic Multiplication\n",
    "print(f'Division of a and b : {a/b}') # Used arithemetic Division\n",
    "print(f'Reminder after dividing a with b : {a%b}') # Used arithemetic Moduless operator\n",
    "print(f'quotient after dividing a with b : {a//b}') # Used arithemetic Floor division\n",
    "print(f'a power b : {a**b}') # Used arithemetic power operator"
   ]
  },
  {
   "cell_type": "markdown",
   "id": "3a63d97e",
   "metadata": {},
   "source": [
    "Q. Comparison Operators on boolean values\n",
    "Take two different boolean values.\n",
    "Store them in two different variables.\n",
    "Do below operations on them:-\n",
    "\n",
    " Compare these two values with below operator:-\n",
    " \n",
    " Greater than, '>'\n",
    " \n",
    " less than, '<'\n",
    " \n",
    " Greater than or equal to, '>='\n",
    " \n",
    " Less than or equal to, '<='\n",
    " \n",
    "Observe their output(return type should be boolean)\n"
   ]
  },
  {
   "cell_type": "code",
   "execution_count": 8,
   "id": "04dddb47",
   "metadata": {},
   "outputs": [
    {
     "name": "stdout",
     "output_type": "stream",
     "text": [
      "a Greater than b: True\n",
      "a Less than b: False\n",
      "a Greater than or Equal to b: True\n",
      "a Less than or Equal to b: False\n"
     ]
    }
   ],
   "source": [
    "# Declaring a and b with diffrent bool value.\n",
    "a=bool(30)\n",
    "b=bool(0)\n",
    "\n",
    "print(f'a Greater than b: {a>b}') # used > operator\n",
    "print(f'a Less than b: {a<b}') # used < operator\n",
    "print(f'a Greater than or Equal to b: {a>=b}') # used >= operator\n",
    "print(f'a Less than or Equal to b: {a<=b}') # used <= operator\n",
    "\n",
    "# Output checked and confrom its's all boolean."
   ]
  },
  {
   "cell_type": "markdown",
   "id": "82775f54",
   "metadata": {},
   "source": [
    "Q. Equality Operator\n",
    "Take two different boolean values.\n",
    "Store them in two different variables.\n",
    "\n",
    "Equate them using equality operators (==, !=)\n",
    "\n",
    "Observe the output(return type should be boolean)"
   ]
  },
  {
   "cell_type": "code",
   "execution_count": 9,
   "id": "7de6899a",
   "metadata": {},
   "outputs": [
    {
     "name": "stdout",
     "output_type": "stream",
     "text": [
      "is a equal to b: False\n",
      "is a not equal to b: True\n"
     ]
    }
   ],
   "source": [
    "# Declaring a and b with diffrent bool value.\n",
    "a=bool(0)\n",
    "b=bool(40)\n",
    "\n",
    "print(f'is a equal to b: {a==b}') # used == operator\n",
    "print(f'is a not equal to b: {a!=b}') # used != operator"
   ]
  },
  {
   "cell_type": "markdown",
   "id": "aa06fcd7",
   "metadata": {},
   "source": [
    "Q. Logical operators\n",
    "Observe the output of below code\n",
    "Cross check the output manually\n",
    "\n",
    "print(True and True)\n",
    "#----------------------------------------->Output is True\n",
    "\n",
    "print(False and True)\n",
    "#----------------------------------------->Output is False\n",
    "\n",
    "print(True and False)\n",
    "#----------------------------------------->Output is False\n",
    "\n",
    "print(False and False)\n",
    "#----------------------------------------->Output is False\n",
    "\n",
    "print(True or True)\n",
    "#----------------------------------------->Output is True\n",
    "\n",
    "print(False or True)\n",
    "#----------------------------------------->Output is True\n",
    "\n",
    "print(True or False)\n",
    "#----------------------------------------->Output is True\n",
    "\n",
    "print(False or False)\n",
    "#----------------------------------------->Output is False\n",
    "\n",
    "print(not True)\n",
    "#----------------------------------------->Output is False\n",
    "\n",
    "print(not False)\n",
    "#----------------------------------------->Output is True"
   ]
  },
  {
   "cell_type": "code",
   "execution_count": 12,
   "id": "aef2a0b4",
   "metadata": {},
   "outputs": [
    {
     "name": "stdout",
     "output_type": "stream",
     "text": [
      "True\n",
      "False\n",
      "False\n",
      "False\n",
      "\n",
      "True\n",
      "True\n",
      "True\n",
      "False\n",
      "\n",
      "False\n",
      "True\n"
     ]
    }
   ],
   "source": [
    "# AND operation on boolean will give true when both operands are True else result will be false\n",
    "print(True and True) #----------------------------------------->Output is True\n",
    "print(False and True) #----------------------------------------->Output is False\n",
    "print(True and False) #----------------------------------------->Output is False\n",
    "print(False and False,end='\\n\\n') #----------------------------------------->Output is False\n",
    "\n",
    "# OR operation on boolean will give true when at least any of one operand is True \n",
    "# if both operand is false then result will be false\n",
    "print(True or True) #----------------------------------------->Output is True\n",
    "print(False or True) #----------------------------------------->Output is True\n",
    "print(True or False) #----------------------------------------->Output is True\n",
    "print(False or False,end='\\n\\n') #----------------------------------------->Output is False\n",
    "\n",
    "# NOT operator will toggle the boolean value\n",
    "print(not True) #----------------------------------------->Output is False\n",
    "print(not False) #----------------------------------------->Output is True"
   ]
  },
  {
   "cell_type": "markdown",
   "id": "a820702b",
   "metadata": {},
   "source": [
    "Q. Bitwise Operators\n",
    "Do below operations on the values provided below:-\n",
    "\n",
    " Bitwise and(&) --------------> True, True -------> Output is True\n",
    " \n",
    " Bitwise or(|) --------------> True, False -------> Output is True\n",
    " \n",
    " Bitwise(^) --------------> True, False -------> Output is True\n",
    " \n",
    " Bitwise negation(~) ---------> True -------> Output is -2\n",
    " \n",
    " Bitwise left shift ---------> True,2 -------> Output is 4\n",
    " \n",
    " Bitwise right shift ---------> True,2 -------> Output is 0\n",
    " \n",
    "Cross check the output manually"
   ]
  },
  {
   "cell_type": "code",
   "execution_count": 14,
   "id": "b4103a90",
   "metadata": {},
   "outputs": [
    {
     "name": "stdout",
     "output_type": "stream",
     "text": [
      "True\n",
      "True\n",
      "True\n",
      "-2\n",
      "4\n",
      "0\n"
     ]
    }
   ],
   "source": [
    " print(True & True)  #--------------> True, True --> 0001 and 0001=>0001 -------> Output is True\n",
    " \n",
    " print(True | True)  #--------------> True, False --> 0001 and 0001=>0001 -------> Output is True\n",
    " \n",
    " print(True ^ False) # --------------> True, False --> 0001 and 0000=>0001-------> Output is True\n",
    " \n",
    " print(~True)   #---------> True -->~1 -------> Output is -2\n",
    " \n",
    " print(True<<2) #---------> True,2 --> 0001=>(add two place on right) 000100 -------> Output is 4\n",
    " \n",
    " print(True>>2) # ---------> True,2 -->0001=>(trim 2 place on right) 00 -------> Output is 0"
   ]
  },
  {
   "cell_type": "markdown",
   "id": "aefd2389",
   "metadata": {},
   "source": [
    "Q. What is the output of expression inside the print statement. Cross\n",
    "check before running the program.\n",
    "\n",
    "a = True\n",
    "\n",
    "b = True\n",
    "\n",
    "print(a is b) #True or False? #\n",
    "\n",
    "print(a is not b) #True or False?\n",
    "\n",
    "a = False\n",
    "\n",
    "b = False\n",
    "\n",
    "print(a is b) #True or False?\n",
    "\n",
    "print(a is not b) #True or False?"
   ]
  },
  {
   "cell_type": "code",
   "execution_count": 15,
   "id": "7589c8cb",
   "metadata": {},
   "outputs": [
    {
     "name": "stdout",
     "output_type": "stream",
     "text": [
      "True\n",
      "False\n",
      "True\n",
      "False\n"
     ]
    }
   ],
   "source": [
    "a = True\n",
    "\n",
    "b = True\n",
    "\n",
    "print(a is b) #true\n",
    "\n",
    "print(a is not b) #False\n",
    "\n",
    "a = False\n",
    "\n",
    "b = False\n",
    "\n",
    "print(a is b) #True\n",
    "\n",
    "print(a is not b) #False"
   ]
  },
  {
   "cell_type": "markdown",
   "id": "43e3a243",
   "metadata": {},
   "source": [
    "Q. Membership operation\n",
    "in, not in are two membership operators and it returns boolean value\n",
    "\n",
    "print(True in [10,10.20,10+20j,'Python', True])\n",
    "\n",
    "print(False in (10,10.20,10+20j,'Python', False))\n",
    "\n",
    "print(True in {1,2,3, True})\n",
    "\n",
    "print(True in {True:100, False:200, True:300})\n",
    "\n",
    "print(False in {True:100, False:200, True:300})"
   ]
  },
  {
   "cell_type": "code",
   "execution_count": 17,
   "id": "45a9d48f",
   "metadata": {},
   "outputs": [
    {
     "name": "stdout",
     "output_type": "stream",
     "text": [
      "True\n",
      "True\n",
      "True\n",
      "True\n",
      "True\n"
     ]
    }
   ],
   "source": [
    "print(True in [10,10.20,10+20j,'Python', True]) #True is present in given list\n",
    "\n",
    "print(False in (10,10.20,10+20j,'Python', False)) #False is present in given tuple\n",
    "\n",
    "print(True in {1,2,3, True}) #True is present in given set\n",
    "\n",
    "print(True in {True:100, False:200, True:300}) #True is present in given dictionary\n",
    "\n",
    "print(False in {True:100, False:200, True:300}) #False is present in given dictionary"
   ]
  }
 ],
 "metadata": {
  "kernelspec": {
   "display_name": "Python 3 (ipykernel)",
   "language": "python",
   "name": "python3"
  },
  "language_info": {
   "codemirror_mode": {
    "name": "ipython",
    "version": 3
   },
   "file_extension": ".py",
   "mimetype": "text/x-python",
   "name": "python",
   "nbconvert_exporter": "python",
   "pygments_lexer": "ipython3",
   "version": "3.9.12"
  }
 },
 "nbformat": 4,
 "nbformat_minor": 5
}
