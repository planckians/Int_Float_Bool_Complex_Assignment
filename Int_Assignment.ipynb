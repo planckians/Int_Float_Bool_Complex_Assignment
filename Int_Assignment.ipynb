{
 "cells": [
  {
   "cell_type": "markdown",
   "id": "eba0468f",
   "metadata": {},
   "source": [
    "Q. Declare an int value and store it in a variable.\n",
    "Check the type and print the id of the same."
   ]
  },
  {
   "cell_type": "code",
   "execution_count": 4,
   "id": "161e80b2",
   "metadata": {},
   "outputs": [
    {
     "name": "stdout",
     "output_type": "stream",
     "text": [
      "Value of Variable \"a\" Located in 2558158269008 and Datatype which \"a\" holds is <class 'int'>\n"
     ]
    }
   ],
   "source": [
    "a=10  #Declaring an integer value.\n",
    "print(f'Value of Variable \"a\" Located in {id(a)} and Datatype which \"a\" holds is {type(a)}') \n",
    "# Here I used \"id\" Function to identify memory id of value in \"a\" and\n",
    "# \"type\" function to know its DataType. "
   ]
  },
  {
   "cell_type": "markdown",
   "id": "9d9974b5",
   "metadata": {},
   "source": [
    "Q. Take one int value between 0 - 256.\n",
    "Assign it to two different variables.\n",
    "Check the id of both the variables. It should come the same. Check why?"
   ]
  },
  {
   "cell_type": "code",
   "execution_count": 10,
   "id": "4f492365",
   "metadata": {},
   "outputs": [
    {
     "name": "stdout",
     "output_type": "stream",
     "text": [
      "memory id of variable a :2558158269008 and b:2558158269008\n"
     ]
    }
   ],
   "source": [
    "# Declaring a and b with same integer value.\n",
    "a=10\n",
    "b=10\n",
    "print(f'memory id of variable a :{id(a)} and b:{id(b)}')\n",
    "# checked and identified both variable hold same memory location.\n",
    "# Reason: Python have a feature called \"Memory reuseablity\".In case of integer ,\n",
    "#\"Memory reuseablity\" is applicable in the range of -5 to 256.\n",
    "#\"Memory reuseablity\": This is a technique used by python, which is if two or more variables have same value ,\n",
    "#then rather than creating new objects for same value in heap, python will point 2nd variable to that memory location.\n",
    "# in the case of integer there is a limitation for this \"Memory reuseablity\" technique is only applicable from -5 to 256. "
   ]
  },
  {
   "cell_type": "markdown",
   "id": "d28becae",
   "metadata": {},
   "source": [
    "Q. Take one int value either less than -5 or greater than 256.\n",
    "Assign it to two different variables.\n",
    "Check the id of both the variables. It should come different.Check why?\n"
   ]
  },
  {
   "cell_type": "code",
   "execution_count": 12,
   "id": "65521888",
   "metadata": {},
   "outputs": [
    {
     "name": "stdout",
     "output_type": "stream",
     "text": [
      "memory id of variable a :2558268622192 and b:2558268623024\n"
     ]
    }
   ],
   "source": [
    "# Declaring a and b with same integer value.\n",
    "a=-10\n",
    "b=-10\n",
    "print(f'memory id of variable a :{id(a)} and b:{id(b)}')\n",
    "# checked and identified both variables are not holding same memory location.\n",
    "# Reason: \"Memory reuseablity\" is only applicable in the range of -5 to 256 for integer datatype"
   ]
  },
  {
   "cell_type": "markdown",
   "id": "99c7281f",
   "metadata": {},
   "source": [
    "Q. Arithmetic Operations on integers\n",
    "Take two different integer values.\n",
    "Store them in two different variables.\n",
    "\n",
    "Do below operations on them:-\n",
    "\n",
    " Find sum of both numbers\n",
    " \n",
    " Find difference between them\n",
    " \n",
    " Find the product of both numbers.\n",
    " \n",
    " Find value after dividing first num with second number\n",
    " \n",
    " Find the remainder after dividing first number with second number\n",
    " \n",
    " Find the quotient after dividing first number with second number\n",
    " \n",
    " Find the result of the first num to the power of the second number.\n",
    " "
   ]
  },
  {
   "cell_type": "code",
   "execution_count": 123,
   "id": "543f6a64",
   "metadata": {},
   "outputs": [
    {
     "name": "stdout",
     "output_type": "stream",
     "text": [
      "Sum of both a and b : 30\n",
      "diffrence between both a and b : 10\n",
      "Product of a and b : 200\n",
      "Division of a and b : 2.0\n",
      "Reminder after dividing a with b : 0\n",
      "quotient after dividing a with b : 2\n",
      "a power b : 10240000000000\n"
     ]
    }
   ],
   "source": [
    "# Declaring a and b with diffrent integer value.\n",
    "a=20\n",
    "b=10\n",
    "\n",
    "print(f'Sum of both a and b : {a+b}') # Used arithemetic addition\n",
    "print(f'diffrence between both a and b : {a-b}') # Used arithemetic Substraction\n",
    "print(f'Product of a and b : {a*b}') # Used arithemetic Multiplication\n",
    "print(f'Division of a and b : {a/b}') # Used arithemetic Division\n",
    "print(f'Reminder after dividing a with b : {a%b}') # Used arithemetic Moduless operator\n",
    "print(f'quotient after dividing a with b : {a//b}') # Used arithemetic Floor division\n",
    "print(f'a power b : {a**b}') # Used arithemetic power operator"
   ]
  },
  {
   "cell_type": "markdown",
   "id": "6c5a4018",
   "metadata": {},
   "source": [
    "Q. Comparison Operators on integers\n",
    "Take two different integer values.\n",
    "Store them in two different variables.\n",
    "\n",
    "Do below operations on them:-\n",
    " Compare se two numbers with below operator:-\n",
    " \n",
    " Greater than, '>'\n",
    " \n",
    " Smaller than, '<'\n",
    " \n",
    " Greater than or equal to, '>='\n",
    " \n",
    " Less than or equal to, '<='\n",
    " \n",
    "Observe their output(return type should be boolean)\n"
   ]
  },
  {
   "cell_type": "code",
   "execution_count": 30,
   "id": "7726af67",
   "metadata": {},
   "outputs": [
    {
     "name": "stdout",
     "output_type": "stream",
     "text": [
      "a Greater than b: False\n",
      "a Less than b: True\n",
      "a Greater than or Equal to b: False\n",
      "a Less than or Equal to b: True\n"
     ]
    }
   ],
   "source": [
    "# Declaring a and b with diffrent integer value.\n",
    "a=30\n",
    "b=50\n",
    "\n",
    "print(f'a Greater than b: {a>b}') # used > operator\n",
    "print(f'a Less than b: {a<b}') # used < operator\n",
    "print(f'a Greater than or Equal to b: {a>=b}') # used >= operator\n",
    "print(f'a Less than or Equal to b: {a<=b}') # used <= operator\n",
    "\n",
    "# Output checked and confrom its's all boolean."
   ]
  },
  {
   "cell_type": "markdown",
   "id": "c154f252",
   "metadata": {},
   "source": [
    "Q. Equality Operator\n",
    "Take two different integer values.\n",
    "Store them in two different variables.\n",
    "\n",
    "Equate them using equality operators (==, !=)\n",
    "\n",
    "Observe the output(return type should be boolean)\n"
   ]
  },
  {
   "cell_type": "code",
   "execution_count": 34,
   "id": "19dc9531",
   "metadata": {},
   "outputs": [
    {
     "name": "stdout",
     "output_type": "stream",
     "text": [
      "is a equal to b: False\n",
      "is a not equal to b: True\n"
     ]
    }
   ],
   "source": [
    "# Declaring a and b with diffrent integer value.\n",
    "a=30\n",
    "b=40\n",
    "\n",
    "print(f'is a equal to b: {a==b}') # used == operator\n",
    "print(f'is a not equal to b: {a!=b}') # used != operator\n"
   ]
  },
  {
   "cell_type": "markdown",
   "id": "383ccf15",
   "metadata": {},
   "source": [
    "Q. Logical operators\n",
    "Observe the output of below code\n",
    "Cross check the output manually\n",
    "\n",
    "print(10 and 20)\n",
    "\n",
    "#----------------------------------------->Output is 20\n",
    "\n",
    "print(0 and 20)\n",
    "\n",
    "#----------------------------------------->Output is 0\n",
    "\n",
    "print(20 and 0)\n",
    "\n",
    "#----------------------------------------->Output is 0\n",
    "\n",
    "print(0 and 0)\n",
    "\n",
    "#----------------------------------------->Output is 0\n",
    "\n",
    "print(10 or 20)\n",
    "\n",
    "#----------------------------------------->Output is 10\n",
    "\n",
    "print(0 or 20)\n",
    "\n",
    "#----------------------------------------->Output is 20\n",
    "print(20 or 0)\n",
    "\n",
    "#----------------------------------------->Output is 20\n",
    "\n",
    "print(0 or 0)\n",
    "\n",
    "#----------------------------------------->Output is 0\n",
    "\n",
    "print(not 10)\n",
    "\n",
    "#----------------------------------------->Output is False\n",
    "\n",
    "print(not 0)\n",
    "\n",
    "#----------------------------------------->Output is True"
   ]
  },
  {
   "cell_type": "code",
   "execution_count": 36,
   "id": "486e4b92",
   "metadata": {},
   "outputs": [
    {
     "name": "stdout",
     "output_type": "stream",
     "text": [
      "0\n"
     ]
    }
   ],
   "source": [
    "print(10 and 20) # output is 20 verified, 'and' operation will check all value until a false is found and \n",
    "# that false value will be out put ,if false is not found the last true value will be the output of 'and' operation.\n"
   ]
  },
  {
   "cell_type": "code",
   "execution_count": 37,
   "id": "aa53c6ea",
   "metadata": {},
   "outputs": [
    {
     "name": "stdout",
     "output_type": "stream",
     "text": [
      "0\n"
     ]
    }
   ],
   "source": [
    "print(0 and 20) # here first itself is false value '0' so and operation wont continue and return 0 as output."
   ]
  },
  {
   "cell_type": "code",
   "execution_count": 39,
   "id": "948f7fee",
   "metadata": {},
   "outputs": [
    {
     "name": "stdout",
     "output_type": "stream",
     "text": [
      "0\n"
     ]
    }
   ],
   "source": [
    "print(20 and 0) # here first value is true value , so and operation will check for next value,\n",
    "# and next value is false '0' so out put will be 0"
   ]
  },
  {
   "cell_type": "code",
   "execution_count": 40,
   "id": "0d0911ae",
   "metadata": {},
   "outputs": [
    {
     "name": "stdout",
     "output_type": "stream",
     "text": [
      "0\n"
     ]
    }
   ],
   "source": [
    "print(0 and 0) # here first 0 will be the output, coz the first value itself is falso so it wont go for next"
   ]
  },
  {
   "cell_type": "code",
   "execution_count": 41,
   "id": "9bc0c737",
   "metadata": {},
   "outputs": [
    {
     "name": "stdout",
     "output_type": "stream",
     "text": [
      "10\n"
     ]
    }
   ],
   "source": [
    "print(10 or 20) # in or operation next value is checked until first true value is found,\n",
    "# once a true value is found then that true value will be output else last false value will be output"
   ]
  },
  {
   "cell_type": "code",
   "execution_count": 42,
   "id": "ae27f5e9",
   "metadata": {},
   "outputs": [
    {
     "name": "stdout",
     "output_type": "stream",
     "text": [
      "20\n"
     ]
    }
   ],
   "source": [
    "print(0 or 20) # as per or operator first true value is output here its 20."
   ]
  },
  {
   "cell_type": "code",
   "execution_count": 43,
   "id": "36e51f2b",
   "metadata": {},
   "outputs": [
    {
     "name": "stdout",
     "output_type": "stream",
     "text": [
      "20\n"
     ]
    }
   ],
   "source": [
    "print(20 or 0) # as per or operator first true value is output here its 20. "
   ]
  },
  {
   "cell_type": "code",
   "execution_count": 45,
   "id": "fabf5750",
   "metadata": {},
   "outputs": [
    {
     "name": "stdout",
     "output_type": "stream",
     "text": [
      "0\n"
     ]
    }
   ],
   "source": [
    "print(0 or 0) # here true value can't found for or operator so last false value will be the output."
   ]
  },
  {
   "cell_type": "code",
   "execution_count": 46,
   "id": "31f3777f",
   "metadata": {},
   "outputs": [
    {
     "name": "stdout",
     "output_type": "stream",
     "text": [
      "False\n"
     ]
    }
   ],
   "source": [
    "print(not 10) # 10 is consider as true, then not true wills be false."
   ]
  },
  {
   "cell_type": "code",
   "execution_count": 48,
   "id": "8d36c5c1",
   "metadata": {},
   "outputs": [
    {
     "name": "stdout",
     "output_type": "stream",
     "text": [
      "True\n"
     ]
    }
   ],
   "source": [
    "print(not 0) # 0 is consider as false, then not false wills be true.\n"
   ]
  },
  {
   "cell_type": "markdown",
   "id": "84c75b06",
   "metadata": {},
   "source": [
    "Q. Bitwise Operators\n",
    "Do below operations on the values provided below:-\n",
    "\n",
    " Bitwise and(&) -----------------------------------------> 10, 20\n",
    "-------> Output is 0\n",
    "\n",
    " Bitwise or(|) -----------------------------------------> 10, 20\n",
    "-------> Output is 30\n",
    "\n",
    " Bitwise(^) -----------------------------------------> 10, 20\n",
    "-------> Output is 30\n",
    "\n",
    " Bitwise negation(~) ------------------------------------> 10\n",
    "-------> Output is -11\n",
    "\n",
    " Bitwise left shift ------------------------------------> 10,2\n",
    "-------> Output is 40\n",
    "\n",
    " Bitwise right shift ------------------------------------> 10,2\n",
    "-------> Output is 2\n",
    "\n",
    "Cross check the output manually\n"
   ]
  },
  {
   "cell_type": "code",
   "execution_count": 52,
   "id": "e271160a",
   "metadata": {},
   "outputs": [
    {
     "name": "stdout",
     "output_type": "stream",
     "text": [
      "0\n"
     ]
    }
   ],
   "source": [
    "print(10&20) # 01010 and 10100 =>0000 , so output is zero"
   ]
  },
  {
   "cell_type": "code",
   "execution_count": 56,
   "id": "d98f6b2c",
   "metadata": {},
   "outputs": [
    {
     "name": "stdout",
     "output_type": "stream",
     "text": [
      "30\n"
     ]
    }
   ],
   "source": [
    "print(10|20) # 01010 or 10100 =>11110 , so output is 30"
   ]
  },
  {
   "cell_type": "code",
   "execution_count": 57,
   "id": "cefa7ec5",
   "metadata": {},
   "outputs": [
    {
     "name": "stdout",
     "output_type": "stream",
     "text": [
      "30\n"
     ]
    }
   ],
   "source": [
    "print(10^20) # 01010 XOR 10100 =>11110 , so output is 30"
   ]
  },
  {
   "cell_type": "code",
   "execution_count": 58,
   "id": "b357d683",
   "metadata": {},
   "outputs": [
    {
     "name": "stdout",
     "output_type": "stream",
     "text": [
      "-11\n"
     ]
    }
   ],
   "source": [
    "print(~10) # 10+1 and multiply by -1=>-11"
   ]
  },
  {
   "cell_type": "code",
   "execution_count": 60,
   "id": "1804ccf1",
   "metadata": {},
   "outputs": [
    {
     "name": "stdout",
     "output_type": "stream",
     "text": [
      "40\n"
     ]
    }
   ],
   "source": [
    "print(10<<2) # bitwise left shift , so leftshit 01010 by 2 place means add two places before 01010 => 0101000 out is 40"
   ]
  },
  {
   "cell_type": "code",
   "execution_count": 61,
   "id": "fdbd1f45",
   "metadata": {},
   "outputs": [
    {
     "name": "stdout",
     "output_type": "stream",
     "text": [
      "2\n"
     ]
    }
   ],
   "source": [
    "print(10>>2) # bitwise right shift , so trim two places from left, ie 01010 =>010 , so out is 2"
   ]
  },
  {
   "cell_type": "markdown",
   "id": "19c5b3aa",
   "metadata": {},
   "source": [
    "Q. What is the output of expression inside print statement. Cross check\n",
    "before running the program.\n",
    "\n",
    "a = 10\n",
    "\n",
    "b = 10\n",
    "\n",
    "print(a is b) #True or False?\n",
    "\n",
    "print(a is not b) #True or False?\n",
    "\n",
    "a = 1000\n",
    "\n",
    "b = 1000\n",
    "\n",
    "print(a is b) #True or False?\n",
    "\n",
    "print(a is not b) #True or False?\n"
   ]
  },
  {
   "cell_type": "code",
   "execution_count": 64,
   "id": "444fae7c",
   "metadata": {},
   "outputs": [
    {
     "name": "stdout",
     "output_type": "stream",
     "text": [
      "True\n"
     ]
    }
   ],
   "source": [
    "# declaring a and b\n",
    "a = 10\n",
    "b = 10\n",
    "print(a is b) # a and b have same mem location and identity operator 'is' can be used,\n",
    "# to know whether two variable shares same mem location or not."
   ]
  },
  {
   "cell_type": "code",
   "execution_count": 66,
   "id": "ccb50027",
   "metadata": {},
   "outputs": [
    {
     "name": "stdout",
     "output_type": "stream",
     "text": [
      "False\n"
     ]
    }
   ],
   "source": [
    "a = 1000\n",
    "b = 1000\n",
    "print(a is b) # here a and b have diffrent mem location coz values of a and b resides out of caching range."
   ]
  },
  {
   "cell_type": "markdown",
   "id": "1afd1814",
   "metadata": {},
   "source": [
    "Q. What is the output of expression inside print statement. Cross check\n",
    "before running the program.\n",
    "print(10+(10*32)//2**5&20+(~(-10))<<2)\n"
   ]
  },
  {
   "cell_type": "code",
   "execution_count": 85,
   "id": "16c931d5",
   "metadata": {},
   "outputs": [
    {
     "name": "stdout",
     "output_type": "stream",
     "text": [
      "20\n"
     ]
    }
   ],
   "source": [
    "print(10+(10*32)//2**5&20+(~(-10))<<2) ## answer is 20"
   ]
  },
  {
   "cell_type": "code",
   "execution_count": 84,
   "id": "c4019841",
   "metadata": {},
   "outputs": [
    {
     "name": "stdout",
     "output_type": "stream",
     "text": [
      "20\n"
     ]
    }
   ],
   "source": [
    "#print(10+(10*32)//2**5&20+(~(-10))<<2)  first precedence Parentheses\n",
    "#print(10+320//2**5&20+9<<2)  next precedence Exponent\n",
    "#print(10+320//32&20+9<<2)  next precedence Multiplication, Division, Floor division, Modulus\n",
    "#print(10+10&20+9<<2)   next precedence Addition, Subtraction\n",
    "#print(20&29<<2)   next precedence Bitwise shift operators\n",
    "#print(20&116)  next precedence Bitwise AND\n",
    "print(20&116)  # ans is 20 confromed."
   ]
  },
  {
   "cell_type": "markdown",
   "id": "f6a284ba",
   "metadata": {},
   "source": [
    "Q. Membership operation\n",
    "in, not in are two membership operators and it returns boolean value\n",
    "\n",
    "print('2' in 'Python2.7.8')\n",
    "\n",
    "print(10 in [10,10.20,10+20j,'Python'])\n",
    "\n",
    "print(10 in (10,10.20,10+20j,'Python'))\n",
    "\n",
    "print(2 in {1,2,3})\n",
    "\n",
    "print(3 in {1:100, 2:200, 3:300})\n",
    "\n",
    "print(10 in range(20))\n"
   ]
  },
  {
   "cell_type": "code",
   "execution_count": 86,
   "id": "8d97feae",
   "metadata": {},
   "outputs": [
    {
     "name": "stdout",
     "output_type": "stream",
     "text": [
      "True\n"
     ]
    }
   ],
   "source": [
    "print('2' in 'Python2.7.8') #true 2 is in given string "
   ]
  },
  {
   "cell_type": "code",
   "execution_count": 88,
   "id": "a9bb3478",
   "metadata": {},
   "outputs": [
    {
     "name": "stdout",
     "output_type": "stream",
     "text": [
      "True\n",
      "True\n"
     ]
    }
   ],
   "source": [
    "print(10 in [10,10.20,10+20j,'Python']) #true 10 is thr in given list\n",
    "print(10 in (10,10.20,10+20j,'Python'))\n"
   ]
  },
  {
   "cell_type": "code",
   "execution_count": 90,
   "id": "85bc95da",
   "metadata": {},
   "outputs": [
    {
     "name": "stdout",
     "output_type": "stream",
     "text": [
      "True\n"
     ]
    }
   ],
   "source": [
    "print(2 in {1,2,3}) # 2 is thr in this set so true"
   ]
  },
  {
   "cell_type": "code",
   "execution_count": 92,
   "id": "3a27744e",
   "metadata": {},
   "outputs": [
    {
     "name": "stdout",
     "output_type": "stream",
     "text": [
      "True\n"
     ]
    }
   ],
   "source": [
    "print(3 in {1:100, 2:200, 3:300}) # true 3 is a key in given dictionary"
   ]
  },
  {
   "cell_type": "code",
   "execution_count": 93,
   "id": "2bac4d6e",
   "metadata": {},
   "outputs": [
    {
     "name": "stdout",
     "output_type": "stream",
     "text": [
      "True\n"
     ]
    }
   ],
   "source": [
    "print(10 in range(20)) # 10 is in range of 0-19 so true"
   ]
  },
  {
   "cell_type": "markdown",
   "id": "5a0bed2d",
   "metadata": {},
   "source": [
    "Q. An integer can be represented in binary, octal or hexadecimal form.\n",
    "Declare one binary, one octal and one hexadecimal value and store them\n",
    "in three different variables.\n",
    "\n",
    "Convert 9876 to its binary, octal and hexadecimal equivalent and print\n",
    "their corresponding value.\n"
   ]
  },
  {
   "cell_type": "code",
   "execution_count": 102,
   "id": "775738bf",
   "metadata": {},
   "outputs": [
    {
     "name": "stdout",
     "output_type": "stream",
     "text": [
      "20 20 20\n"
     ]
    }
   ],
   "source": [
    "a=0b10100\n",
    "b=0o24\n",
    "c=0x14\n",
    "print(a,b,c)"
   ]
  },
  {
   "cell_type": "code",
   "execution_count": 104,
   "id": "2f4bb659",
   "metadata": {},
   "outputs": [
    {
     "name": "stdout",
     "output_type": "stream",
     "text": [
      "binary value: 0b10011010010100, octal value: 0o23224, hexadecimal value: 0x2694\n"
     ]
    }
   ],
   "source": [
    "d=9876\n",
    "print(f'binary value: {bin(d)}, octal value: {oct(d)}, hexadecimal value: {hex(d)}')"
   ]
  },
  {
   "cell_type": "markdown",
   "id": "94c22238",
   "metadata": {},
   "source": [
    "Q. What will be the output of following:-\n",
    "\n",
    "a = 0b1010000\n",
    "\n",
    "print(a)\n",
    "\n",
    "b = 0o7436\n",
    "\n",
    "print(b)\n",
    "\n",
    "c = 0xfade\n",
    "\n",
    "print(c)\n",
    "\n",
    "print(bin(80))\n",
    "\n",
    "print(oct(3870))\n",
    "\n",
    "print(hex(64222))\n",
    "\n",
    "print(bin(0b1010000))\n",
    "\n",
    "print(bin(0xfade))\n",
    "\n",
    "print(oct(0xfade))\n",
    "\n",
    "print(oct(0o7436))\n",
    "\n",
    "print(hex(0b1010000))\n",
    "\n",
    "print(hex(0xfade))"
   ]
  },
  {
   "cell_type": "code",
   "execution_count": 106,
   "id": "f1f27cf6",
   "metadata": {},
   "outputs": [
    {
     "name": "stdout",
     "output_type": "stream",
     "text": [
      "80\n",
      "3870\n",
      "64222\n"
     ]
    }
   ],
   "source": [
    "a = 0b1010000\n",
    "print(a)\n",
    "b = 0o7436\n",
    "print(b)\n",
    "c = 0xfade\n",
    "print(c)\n",
    "\n"
   ]
  },
  {
   "cell_type": "code",
   "execution_count": 122,
   "id": "53a63bd3",
   "metadata": {},
   "outputs": [
    {
     "name": "stdout",
     "output_type": "stream",
     "text": [
      "0b1010000\n",
      "0b1010000\n",
      "0b1111101011011110\n",
      "\n",
      "0o7436\n",
      "0o175336\n",
      "0o7436\n",
      "\n",
      "0x50\n",
      "0xfade\n",
      "0xfade\n"
     ]
    }
   ],
   "source": [
    "print(bin(80)) # converting decimal to binary \n",
    "print(bin(0b1010000)) # didn't got an idea why this is given. bin of binary is that binary itself\n",
    "print(bin(0xfade),end='\\n\\n') # converting hexa to binary , return type str\n",
    "\n",
    "print(oct(3870)) # converting decimal to octal \n",
    "print(oct(0xfade)) # converting hexa to octal \n",
    "print(oct(0o7436),end='\\n\\n')   # converting oct to oct  (dont see valid)\n",
    "\n",
    "print(hex(0b1010000)) # converting bin to hexa\n",
    "print(hex(0xfade))    # converting hexa to hexa  (dont see valid)\n",
    "print(hex(64222))     # converting decimal to hexa"
   ]
  },
  {
   "cell_type": "code",
   "execution_count": 120,
   "id": "05364acf",
   "metadata": {},
   "outputs": [
    {
     "data": {
      "text/plain": [
       "'0b1111101011011110'"
      ]
     },
     "execution_count": 120,
     "metadata": {},
     "output_type": "execute_result"
    }
   ],
   "source": []
  }
 ],
 "metadata": {
  "kernelspec": {
   "display_name": "Python 3 (ipykernel)",
   "language": "python",
   "name": "python3"
  },
  "language_info": {
   "codemirror_mode": {
    "name": "ipython",
    "version": 3
   },
   "file_extension": ".py",
   "mimetype": "text/x-python",
   "name": "python",
   "nbconvert_exporter": "python",
   "pygments_lexer": "ipython3",
   "version": "3.9.12"
  }
 },
 "nbformat": 4,
 "nbformat_minor": 5
}
