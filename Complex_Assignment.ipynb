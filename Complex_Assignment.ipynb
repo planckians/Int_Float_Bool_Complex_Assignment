{
 "cells": [
  {
   "cell_type": "markdown",
   "id": "0020a957",
   "metadata": {},
   "source": [
    "Q. Declare a complex number and store it in a variable.\n",
    "Check the type and print the id of the same.\n"
   ]
  },
  {
   "cell_type": "code",
   "execution_count": 1,
   "id": "a22a84dc",
   "metadata": {},
   "outputs": [
    {
     "name": "stdout",
     "output_type": "stream",
     "text": [
      "Value of Variable \"a\" Located in 2070659370928 and Datatype which \"a\" holds is <class 'complex'>\n"
     ]
    }
   ],
   "source": [
    "a=10+2j  #Declaring an Complex value.\n",
    "print(f'Value of Variable \"a\" Located in {id(a)} and Datatype which \"a\" holds is {type(a)}') \n",
    "# Here I used \"id\" Function to identify memory id of value in \"a\" and\n",
    "# \"type\" function to know its DataType. "
   ]
  },
  {
   "cell_type": "markdown",
   "id": "ae43ed45",
   "metadata": {},
   "source": [
    "Q. Arithmetic Operations on complex number\n",
    "Take two different complex numbers.\n",
    "Store them in two different variables.\n",
    "Do below operations on them:-\n",
    "\n",
    " Find sum of both numbers\n",
    " \n",
    " Find difference between them\n",
    " \n",
    " Find the product of both numbers.\n",
    " \n",
    " Find value after dividing first num with second number\n",
    " \n",
    " Find the result of the first num to the power of the second number."
   ]
  },
  {
   "cell_type": "code",
   "execution_count": 4,
   "id": "54b1102f",
   "metadata": {},
   "outputs": [
    {
     "name": "stdout",
     "output_type": "stream",
     "text": [
      "Sum of both a and b : (13+32j)\n",
      "diffrence between both a and b : (7-28j)\n",
      "Product of a and b : (-30+306j)\n",
      "Division of a and b : (0.099009900990099-0.32343234323432346j)\n",
      "a power b : (1.1792701773866925+2.5864461153555705j)\n"
     ]
    }
   ],
   "source": [
    "# Declaring a and b with diffrent complex values.\n",
    "a=10+2j\n",
    "b=3+30j\n",
    "\n",
    "print(f'Sum of both a and b : {a+b}') # Used arithemetic addition\n",
    "print(f'diffrence between both a and b : {a-b}') # Used arithemetic Substraction\n",
    "print(f'Product of a and b : {a*b}') # Used arithemetic Multiplication\n",
    "print(f'Division of a and b : {a/b}') # Used arithemetic Division\n",
    "print(f'a power b : {a**b}') # Used arithemetic power operator \n",
    "\n",
    "# print(f'Reminder after dividing a with b : {a%b}') #  MODULESS OPERATION NOT POSSIBLE ON COMPLEX \n",
    "# print(f'quotient after dividing a with b : {a//b}') # FLOOR DIVISION NOT POSSIBLE ON COMPLEX "
   ]
  },
  {
   "cell_type": "markdown",
   "id": "ac5aa2f7",
   "metadata": {},
   "source": [
    "Q. Comparison Operation not applicable between instance of complex\n",
    "values.\n",
    "Object reusability concept is not applicable on complex number"
   ]
  },
  {
   "cell_type": "code",
   "execution_count": null,
   "id": "28ad4079",
   "metadata": {},
   "outputs": [],
   "source": [
    "# YES BOTH STATEMENTS ARE TRUE."
   ]
  },
  {
   "cell_type": "markdown",
   "id": "366d6ad8",
   "metadata": {},
   "source": [
    "Q. Equality Operator\n",
    "Take two different complex numbers.\n",
    "Store them in two different variables.\n",
    "\n",
    "Equate them using equality operators (==, !=)\n",
    "\n",
    "Observe the output(return type should be boolean)"
   ]
  },
  {
   "cell_type": "code",
   "execution_count": 5,
   "id": "ecd76f1e",
   "metadata": {},
   "outputs": [
    {
     "name": "stdout",
     "output_type": "stream",
     "text": [
      "is a equal to b: False\n",
      "is a not equal to b: True\n"
     ]
    }
   ],
   "source": [
    "# Declaring a and b with diffrent Complex value.\n",
    "a=10+2j\n",
    "b=3+30j\n",
    "\n",
    "print(f'is a equal to b: {a==b}') # used == operator\n",
    "print(f'is a not equal to b: {a!=b}') # used != operator"
   ]
  },
  {
   "cell_type": "markdown",
   "id": "8e487280",
   "metadata": {},
   "source": [
    "Q. Logical operators\n",
    "Observe the output of below code\n",
    "Cross check the output manually\n",
    "\n",
    "print(10+20j and 20+30j) # 20+30j\n",
    "#----------------------------------------->Output is 20+30j\n",
    "\n",
    "print(0+0j and 20+30j) # 0+0j\n",
    "#----------------------------------------->Output is 0j\n",
    "\n",
    "print(20+30j and 0+0j) # 0+0j\n",
    "#----------------------------------------->Output is 0j\n",
    "\n",
    "print(0+0j and 0+0j) # 0+0j\n",
    "#----------------------------------------->Output is 0j\n",
    "\n",
    "print(10+20j or 20+30j) # 10+20j\n",
    "#----------------------------------------->Output is 10+20j\n",
    "\n",
    "print(0+0j or 20+30j) # 20+30j\n",
    "#----------------------------------------->Output is 20+30j\n",
    "\n",
    "print(20+30j or 0+0j) # 20+30j\n",
    "#----------------------------------------->Output is 20+30j\n",
    "\n",
    "print(0+0j or 0+0j) # 0+0j\n",
    "#----------------------------------------->Output is 0j\n",
    "\n",
    "print(not 10+20j) #False\n",
    "#----------------------------------------->Output is False\n",
    "\n",
    "print(not 0+0j) #True\n",
    "#----------------------------------------->Output is True\n"
   ]
  },
  {
   "cell_type": "code",
   "execution_count": 7,
   "id": "76e6ab56",
   "metadata": {},
   "outputs": [
    {
     "name": "stdout",
     "output_type": "stream",
     "text": [
      "(20+30j)\n",
      "0j\n",
      "0j\n",
      "0j\n",
      "(10+20j)\n",
      "(20+30j)\n",
      "(20+30j)\n",
      "0j\n",
      "False\n",
      "True\n"
     ]
    }
   ],
   "source": [
    "# complex Logical operation is also works same as int float and bool\n",
    "\n",
    "# AND operation on complex will give true when both operands are True else result will be false.\n",
    "print(10+20j and 20+30j) # 20+30j #----------------------------------------->Output is 20+30j\n",
    "print(0+0j and 20+30j) # 0+0j #----------------------------------------->Output is 0j\n",
    "print(20+30j and 0+0j) # 0+0j #----------------------------------------->Output is 0j\n",
    "print(0+0j and 0+0j) # 0+0j #----------------------------------------->Output is 0j\n",
    "\n",
    "# OR operation  will give true when at least any of one operand is True \n",
    "# if both operand is false then result will be false\n",
    "print(10+20j or 20+30j) # 10+20j #----------------------------------------->Output is 10+20j\n",
    "print(0+0j or 20+30j) # 20+30j #----------------------------------------->Output is 20+30j\n",
    "print(20+30j or 0+0j) # 20+30j #----------------------------------------->Output is 20+30j\n",
    "print(0+0j or 0+0j) # 0+0j #----------------------------------------->Output is 0j\n",
    "\n",
    "# NOT operator will toggle the boolean value\n",
    "print(not 10+20j) #False #----------------------------------------->Output is False\n",
    "print(not 0+0j) #True #----------------------------------------->Output is True"
   ]
  },
  {
   "cell_type": "markdown",
   "id": "93774a0b",
   "metadata": {},
   "source": [
    "Q. What is the output of the expression inside the print statement.\n",
    "Cross check before running the program.\n",
    "\n",
    "a = 10+20j\n",
    "\n",
    "b = 10+20j\n",
    "\n",
    "print(a is b) #False #True or False?\n",
    "\n",
    "print(a is not b) #True #True or False?"
   ]
  },
  {
   "cell_type": "code",
   "execution_count": 10,
   "id": "0b0efbce",
   "metadata": {},
   "outputs": [
    {
     "name": "stdout",
     "output_type": "stream",
     "text": [
      "False\n",
      "True\n"
     ]
    }
   ],
   "source": [
    "a = 10+20j\n",
    "\n",
    "b = 10+20j\n",
    "\n",
    "print(a is b) #False \n",
    "\n",
    "print(a is not b) #True \n",
    "\n",
    "# complex data type won't support mem reuseablity, so same valued variables wont share same mem id."
   ]
  },
  {
   "cell_type": "markdown",
   "id": "0c6245bf",
   "metadata": {},
   "source": [
    "Q. Membership operation\n",
    "in, not in are two membership operators and it returns boolean value\n",
    "\n",
    "print('2.7' in 'Python2.7.8') #True\n",
    "\n",
    "print(10+20j in [10,10.20,10+20j,'Python']) #True\n",
    "\n",
    "print(10+20j in (10,10.20,10+20j,'Python')) #True\n",
    "\n",
    "print(30+40j in {1,20.30,30+40j}) #True\n",
    "\n",
    "print(30+40j in {1:100, 2.3:200, 30+40j:300}) #True\n",
    "\n",
    "print(10 in range(20)) #True"
   ]
  },
  {
   "cell_type": "code",
   "execution_count": 11,
   "id": "3a8babe6",
   "metadata": {},
   "outputs": [
    {
     "name": "stdout",
     "output_type": "stream",
     "text": [
      "True\n",
      "True\n",
      "True\n",
      "True\n",
      "True\n",
      "True\n"
     ]
    }
   ],
   "source": [
    "print('2.7' in 'Python2.7.8') #True\n",
    "print(10+20j in [10,10.20,10+20j,'Python']) #True\n",
    "print(10+20j in (10,10.20,10+20j,'Python')) #True\n",
    "print(30+40j in {1,20.30,30+40j}) #True\n",
    "print(30+40j in {1:100, 2.3:200, 30+40j:300}) #True\n",
    "print(10 in range(20)) #True"
   ]
  }
 ],
 "metadata": {
  "kernelspec": {
   "display_name": "Python 3 (ipykernel)",
   "language": "python",
   "name": "python3"
  },
  "language_info": {
   "codemirror_mode": {
    "name": "ipython",
    "version": 3
   },
   "file_extension": ".py",
   "mimetype": "text/x-python",
   "name": "python",
   "nbconvert_exporter": "python",
   "pygments_lexer": "ipython3",
   "version": "3.9.12"
  }
 },
 "nbformat": 4,
 "nbformat_minor": 5
}
